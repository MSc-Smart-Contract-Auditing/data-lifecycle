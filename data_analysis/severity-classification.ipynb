{
 "cells": [
  {
   "cell_type": "code",
   "execution_count": null,
   "metadata": {},
   "outputs": [],
   "source": [
    "DATASET_NAME = 'severity-classification'\n",
    "\n",
    "# Add root to path\n",
    "import sys\n",
    "current_path = sys.path[0]\n",
    "root_name = 'data-lifecycle'\n",
    "root_path = current_path[:sys.path[0].find(root_name) + len(root_name)]\n",
    "if root_path not in sys.path:\n",
    "    sys.path.insert(0, root_path)"
   ]
  },
  {
   "cell_type": "code",
   "execution_count": null,
   "metadata": {},
   "outputs": [],
   "source": [
    "from datasets import DatasetDict\n",
    "from common.directories import DATASET_DIR\n",
    "import matplotlib.pyplot as plt\n",
    "import pandas as pd\n",
    "from plotter import Plotter\n",
    "\n",
    "plotter = Plotter(DATASET_NAME)"
   ]
  },
  {
   "cell_type": "code",
   "execution_count": null,
   "metadata": {},
   "outputs": [],
   "source": [
    "df_train = DatasetDict.load_from_disk(DATASET_DIR / DATASET_NAME)['train'].to_pandas()\n",
    "df_test = DatasetDict.load_from_disk(DATASET_DIR / DATASET_NAME)['test'].to_pandas()\n",
    "\n",
    "# concatenate train and test\n",
    "df = pd.concat([df_train, df_test])"
   ]
  },
  {
   "cell_type": "code",
   "execution_count": null,
   "metadata": {},
   "outputs": [],
   "source": [
    "severity_counts = df['severity'].value_counts()\n",
    "order = ['none', 'low', 'medium', 'high']\n",
    "colors = ['darkturquoise', 'limegreen', 'darkorange', 'crimson']\n",
    "severity_counts = severity_counts.reindex(order)\n",
    "\n",
    "# Plotting\n",
    "plt.figure(figsize=(6, 6))\n",
    "bars = severity_counts.plot(kind='bar', color=colors, width=0.8)\n",
    "plt.title('Vulnerability Severity Distribution')\n",
    "plt.xlabel('Severity')\n",
    "plt.ylabel('Count')\n",
    "plt.xticks(rotation=0)  # Rotates the labels on the x-axis so they show horizontally\n",
    "plt.grid(axis='y', linestyle='--', alpha=0.6)\n",
    "\n",
    "x_value = bars.patches[0].get_x() + bars.patches[0].get_width() + 0.1\n",
    "plt.axvline(x=x_value, color='black', linestyle='--', linewidth=1)\n",
    "\n",
    "# Annotating each bar with its count\n",
    "for bar, color in zip(bars.patches, colors):\n",
    "    plt.text(bar.get_x() + bar.get_width() / 2, bar.get_height(), f'{int(bar.get_height())}',\n",
    "             ha='center', va='bottom', color=color, fontsize=12)\n",
    "\n",
    "plotter.save_plot('severity-distribution')"
   ]
  },
  {
   "cell_type": "code",
   "execution_count": null,
   "metadata": {},
   "outputs": [],
   "source": [
    "df['length'] = df['function'].apply(len)\n",
    "\n",
    "# Step 2: Define the buckets for lengths\n",
    "bins = list(range(1, 1201, 100))\n",
    "\n",
    "# Step 3: Use pd.cut to categorize these lengths into the defined buckets\n",
    "df['length_category'] = pd.cut(df['length'], bins=bins, right=False, labels=[f\"{bins[i]}-{bins[i+1]-1}\" for i in range(len(bins)-1)])\n",
    "\n",
    "# Count the occurrences in each bucket\n",
    "length_distribution = df['length_category'].value_counts().sort_index()\n",
    "\n",
    "# Step 4: Plotting\n",
    "plt.figure(figsize=(8, 8))\n",
    "length_distribution.plot(kind='bar', color='darkturquoise', width=0.8)\n",
    "plt.title('Distribution of Code Lengths')\n",
    "plt.xlabel('Length Ranges (characters)')\n",
    "plt.ylabel('Count')\n",
    "plt.xticks(rotation=45)\n",
    "plt.grid(True)\n",
    "plotter.save_plot(\"length-distribution\")"
   ]
  },
  {
   "cell_type": "code",
   "execution_count": null,
   "metadata": {},
   "outputs": [],
   "source": [
    "bins = range(0, 1101, 100)\n",
    "labels = [f\"{i}-{i+99}\" for i in bins[:-1]]\n",
    "\n",
    "data = pd.DataFrame({\n",
    "    'function': df['function'],\n",
    "    'severity': df['severity'],\n",
    "    'code_length': df['function'].apply(len)\n",
    "})\n",
    "\n",
    "data['length_category'] = pd.cut(data['code_length'], bins=bins, labels=labels, right=False)\n",
    "\n",
    "# Create a pivot table with counts of each severity per length category\n",
    "pivot_df = df.pivot_table(index='length_category', columns='severity', aggfunc='size', fill_value=0)\n",
    "\n",
    "order = ['none', 'low', 'medium', 'high']\n",
    "colors = list(reversed(['darkturquoise', 'limegreen', 'darkorange', 'crimson']))\n",
    "# Plotting a stacked bar chart\n",
    "pivot_df.plot(kind='bar', stacked=True, figsize=(8, 8), color=colors, width=0.8)\n",
    "plt.title('Distribution of Code Lengths by Severity')\n",
    "plt.xlabel('Code Length (Characters)')\n",
    "plt.ylabel('Count')\n",
    "plt.xticks(rotation=45)\n",
    "plt.legend(title='Severity')\n",
    "plt.grid(linestyle='--', alpha=0.6)\n",
    "\n",
    "plotter.save_plot(\"length-severity-distribution\")\n"
   ]
  }
 ],
 "metadata": {
  "kernelspec": {
   "display_name": "rl",
   "language": "python",
   "name": "python3"
  },
  "language_info": {
   "codemirror_mode": {
    "name": "ipython",
    "version": 3
   },
   "file_extension": ".py",
   "mimetype": "text/x-python",
   "name": "python",
   "nbconvert_exporter": "python",
   "pygments_lexer": "ipython3",
   "version": "3.11.7"
  }
 },
 "nbformat": 4,
 "nbformat_minor": 2
}
