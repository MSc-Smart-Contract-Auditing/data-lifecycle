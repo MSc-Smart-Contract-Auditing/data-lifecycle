{
 "cells": [
  {
   "cell_type": "markdown",
   "metadata": {},
   "source": [
    "## Update the cell below and then run all cells"
   ]
  },
  {
   "cell_type": "code",
   "execution_count": null,
   "metadata": {},
   "outputs": [],
   "source": [
    "DATASET_NAME = 'enhanced-vulnerability-audits'\n",
    "HF_NAME = 'audits-with-reasons'\n",
    "UPLOAD_PLOTS = True"
   ]
  },
  {
   "cell_type": "code",
   "execution_count": null,
   "metadata": {},
   "outputs": [],
   "source": [
    "from pathlib import Path\n",
    "from datasets import DatasetDict\n",
    "from common.directories import DATASET_DIR, FIGURES_DIR"
   ]
  },
  {
   "cell_type": "code",
   "execution_count": null,
   "metadata": {},
   "outputs": [],
   "source": [
    "ORGANIZATION = Path('msc-smart-contract-audition')"
   ]
  },
  {
   "cell_type": "code",
   "execution_count": null,
   "metadata": {},
   "outputs": [],
   "source": [
    "!cp LICENSE {DATASET_DIR/DATASET_NAME}"
   ]
  },
  {
   "cell_type": "code",
   "execution_count": null,
   "metadata": {},
   "outputs": [],
   "source": [
    "dataset = DatasetDict.load_from_disk(DATASET_DIR / DATASET_NAME)"
   ]
  },
  {
   "cell_type": "code",
   "execution_count": null,
   "metadata": {},
   "outputs": [],
   "source": [
    "# Uncomment below if you haven't logged in before\n",
    "# from huggingface_hub import notebook_login\n",
    "# notebook_login()\n",
    "dataset.push_to_hub(str(ORGANIZATION / f'{HF_NAME}'))"
   ]
  },
  {
   "cell_type": "code",
   "execution_count": null,
   "metadata": {},
   "outputs": [],
   "source": [
    "if UPLOAD_PLOTS:\n",
    "    !mkdir -p ../datasets\n",
    "    !cd ../datasets && git clone https://huggingface.co/datasets/{ORGANIZATION}/{HF_NAME}.git\n",
    "    !mkdir -p ../datasets/{HF_NAME}/figures\n",
    "    !cp -r {FIGURES_DIR/DATASET_NAME/'png/*'} ../datasets/{HF_NAME}/figures\n",
    "    !cd ../datasets/{HF_NAME} && git add . && git commit -m \"Add figures\" && git push"
   ]
  }
 ],
 "metadata": {
  "kernelspec": {
   "display_name": "rl",
   "language": "python",
   "name": "python3"
  },
  "language_info": {
   "codemirror_mode": {
    "name": "ipython",
    "version": 3
   },
   "file_extension": ".py",
   "mimetype": "text/x-python",
   "name": "python",
   "nbconvert_exporter": "python",
   "pygments_lexer": "ipython3",
   "version": "3.11.7"
  }
 },
 "nbformat": 4,
 "nbformat_minor": 2
}
