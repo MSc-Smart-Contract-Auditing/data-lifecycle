{
 "cells": [
  {
   "cell_type": "code",
   "execution_count": 3,
   "metadata": {},
   "outputs": [],
   "source": [
    "import pandas as pd\n",
    "import csv\n",
    "from pathlib import Path"
   ]
  },
  {
   "cell_type": "code",
   "execution_count": 5,
   "metadata": {},
   "outputs": [],
   "source": [
    "DIR = Path(\"../\")"
   ]
  },
  {
   "cell_type": "code",
   "execution_count": 52,
   "metadata": {},
   "outputs": [],
   "source": [
    "DIALECT = \"db_dialect\"\n",
    "csv.register_dialect(\n",
    "    DIALECT,\n",
    "    delimiter=\",\",\n",
    "    quoting=csv.QUOTE_MINIMAL,\n",
    "    escapechar=\"\\\\\",\n",
    ")\n",
    "\n",
    "CODE_DIALECT = \"code_dialect\"\n",
    "\n",
    "csv.register_dialect(\n",
    "    CODE_DIALECT,\n",
    "    delimiter=\",\",\n",
    "    quotechar='\"',\n",
    "    quoting=csv.QUOTE_MINIMAL,\n",
    ")\n"
   ]
  },
  {
   "cell_type": "code",
   "execution_count": 53,
   "metadata": {},
   "outputs": [],
   "source": [
    "code = pd.read_csv(DIR / \"cleaned-up-code.csv\", dialect=CODE_DIALECT)\n",
    "descriptions = pd.read_csv(DIR / \"enhanced-vulnerability-descriptions.csv\", dialect=DIALECT)\n",
    "mitigations = pd.read_csv(DIR / \"enhanced-recommendations.csv\", dialect=DIALECT)\n",
    "types = pd.read_csv(DIR / \"vulnerability-types.csv\", dialect=DIALECT)\n",
    "types = pd.read_csv(DIR / \"functionality.csv\", dialect=DIALECT)"
   ]
  },
  {
   "cell_type": "code",
   "execution_count": 58,
   "metadata": {},
   "outputs": [
    {
     "name": "stdout",
     "output_type": "stream",
     "text": [
      "1971\n",
      "1971\n",
      "1971\n",
      "1971\n"
     ]
    }
   ],
   "source": [
    "print(len(code))\n",
    "print(len(descriptions))\n",
    "print(len(mitigations))\n",
    "print(len(types))"
   ]
  },
  {
   "cell_type": "code",
   "execution_count": 59,
   "metadata": {},
   "outputs": [],
   "source": [
    "combined_df = pd.concat([\n",
    "    code,\n",
    "    descriptions,\n",
    "    mitigations,\n",
    "    types,\n",
    "], axis=1)"
   ]
  },
  {
   "cell_type": "code",
   "execution_count": 60,
   "metadata": {},
   "outputs": [
    {
     "data": {
      "text/html": [
       "<div>\n",
       "<style scoped>\n",
       "    .dataframe tbody tr th:only-of-type {\n",
       "        vertical-align: middle;\n",
       "    }\n",
       "\n",
       "    .dataframe tbody tr th {\n",
       "        vertical-align: top;\n",
       "    }\n",
       "\n",
       "    .dataframe thead th {\n",
       "        text-align: right;\n",
       "    }\n",
       "</style>\n",
       "<table border=\"1\" class=\"dataframe\">\n",
       "  <thead>\n",
       "    <tr style=\"text-align: right;\">\n",
       "      <th></th>\n",
       "      <th>code</th>\n",
       "      <th>description</th>\n",
       "      <th>recommendation</th>\n",
       "      <th>type</th>\n",
       "    </tr>\n",
       "  </thead>\n",
       "  <tbody>\n",
       "    <tr>\n",
       "      <th>0</th>\n",
       "      <td>```\\n(\\n    netPnLE36,\\n    lenderProfitUSDVal...</td>\n",
       "      <td>When a position is liquidated, the liquidator ...</td>\n",
       "      <td>To address the vulnerability, we need to ensur...</td>\n",
       "      <td>token locking</td>\n",
       "    </tr>\n",
       "    <tr>\n",
       "      <th>1</th>\n",
       "      <td>```\\nuint deltaTime;\\n\\nif (pos.startLiqTimest...</td>\n",
       "      <td>This vulnerability allows an attacker to manip...</td>\n",
       "      <td>To mitigate this vulnerability, consider imple...</td>\n",
       "      <td>arithmetic manipulation</td>\n",
       "    </tr>\n",
       "    <tr>\n",
       "      <th>2</th>\n",
       "      <td>```\\nfunction _mintInternal(address _receiver,...</td>\n",
       "      <td>This vulnerability allows an attacker to manip...</td>\n",
       "      <td>To prevent the first depositor from being fron...</td>\n",
       "      <td>rounding error</td>\n",
       "    </tr>\n",
       "    <tr>\n",
       "      <th>3</th>\n",
       "      <td>```\\nuint inputTotalUSDValueE36;\\nfor (uint i ...</td>\n",
       "      <td>This vulnerability allows an attacker to manip...</td>\n",
       "      <td>To mitigate the vulnerability, it is recommend...</td>\n",
       "      <td>arithmetic manipulation</td>\n",
       "    </tr>\n",
       "    <tr>\n",
       "      <th>4</th>\n",
       "      <td>```\\nfunction increaseLiquidity(IncreaseLiquid...</td>\n",
       "      <td>The UniswapV3NPM contract allows users to incr...</td>\n",
       "      <td>To prevent an attacker from increasing the liq...</td>\n",
       "      <td>arbitrary liquidity manipulation</td>\n",
       "    </tr>\n",
       "    <tr>\n",
       "      <th>5</th>\n",
       "      <td>```\\nfor (uint i = 0; i &lt; _statuses.length; ) ...</td>\n",
       "      <td>The `SwapHelper.getCalldata()` function retrie...</td>\n",
       "      <td>To mitigate this vulnerability, implement a co...</td>\n",
       "      <td>data exposure</td>\n",
       "    </tr>\n",
       "    <tr>\n",
       "      <th>6</th>\n",
       "      <td>```\\nfor (uint i; i &lt; swapParams.length; ) {\\n...</td>\n",
       "      <td>The swap calculation when closing a position d...</td>\n",
       "      <td>When closing a position, it is crucial to accu...</td>\n",
       "      <td>integer overflow</td>\n",
       "    </tr>\n",
       "    <tr>\n",
       "      <th>7</th>\n",
       "      <td>```\\nfunction _mintInternal(address _receiver,...</td>\n",
       "      <td>The freeze mechanism in this contract introduc...</td>\n",
       "      <td>To mitigate the vulnerability, consider implem...</td>\n",
       "      <td>time-based locking</td>\n",
       "    </tr>\n",
       "    <tr>\n",
       "      <th>8</th>\n",
       "      <td>```\\nstruct tradeInput {\\n    address spendTok...</td>\n",
       "      <td>The vulnerability allows a malicious operator ...</td>\n",
       "      <td>To prevent a malicious operator from draining ...</td>\n",
       "      <td>reentrancy</td>\n",
       "    </tr>\n",
       "    <tr>\n",
       "      <th>9</th>\n",
       "      <td>```\\nif (D == 0) {\\n    uint256 sumDenoms = 0;...</td>\n",
       "      <td>The vulnerability allows a malicious operator ...</td>\n",
       "      <td>To prevent a malicious operator from stealing ...</td>\n",
       "      <td>arithmetic overflow</td>\n",
       "    </tr>\n",
       "  </tbody>\n",
       "</table>\n",
       "</div>"
      ],
      "text/plain": [
       "                                                code  \\\n",
       "0  ```\\n(\\n    netPnLE36,\\n    lenderProfitUSDVal...   \n",
       "1  ```\\nuint deltaTime;\\n\\nif (pos.startLiqTimest...   \n",
       "2  ```\\nfunction _mintInternal(address _receiver,...   \n",
       "3  ```\\nuint inputTotalUSDValueE36;\\nfor (uint i ...   \n",
       "4  ```\\nfunction increaseLiquidity(IncreaseLiquid...   \n",
       "5  ```\\nfor (uint i = 0; i < _statuses.length; ) ...   \n",
       "6  ```\\nfor (uint i; i < swapParams.length; ) {\\n...   \n",
       "7  ```\\nfunction _mintInternal(address _receiver,...   \n",
       "8  ```\\nstruct tradeInput {\\n    address spendTok...   \n",
       "9  ```\\nif (D == 0) {\\n    uint256 sumDenoms = 0;...   \n",
       "\n",
       "                                         description  \\\n",
       "0  When a position is liquidated, the liquidator ...   \n",
       "1  This vulnerability allows an attacker to manip...   \n",
       "2  This vulnerability allows an attacker to manip...   \n",
       "3  This vulnerability allows an attacker to manip...   \n",
       "4  The UniswapV3NPM contract allows users to incr...   \n",
       "5  The `SwapHelper.getCalldata()` function retrie...   \n",
       "6  The swap calculation when closing a position d...   \n",
       "7  The freeze mechanism in this contract introduc...   \n",
       "8  The vulnerability allows a malicious operator ...   \n",
       "9  The vulnerability allows a malicious operator ...   \n",
       "\n",
       "                                      recommendation  \\\n",
       "0  To address the vulnerability, we need to ensur...   \n",
       "1  To mitigate this vulnerability, consider imple...   \n",
       "2  To prevent the first depositor from being fron...   \n",
       "3  To mitigate the vulnerability, it is recommend...   \n",
       "4  To prevent an attacker from increasing the liq...   \n",
       "5  To mitigate this vulnerability, implement a co...   \n",
       "6  When closing a position, it is crucial to accu...   \n",
       "7  To mitigate the vulnerability, consider implem...   \n",
       "8  To prevent a malicious operator from draining ...   \n",
       "9  To prevent a malicious operator from stealing ...   \n",
       "\n",
       "                               type  \n",
       "0                     token locking  \n",
       "1           arithmetic manipulation  \n",
       "2                    rounding error  \n",
       "3           arithmetic manipulation  \n",
       "4  arbitrary liquidity manipulation  \n",
       "5                     data exposure  \n",
       "6                  integer overflow  \n",
       "7                time-based locking  \n",
       "8                        reentrancy  \n",
       "9               arithmetic overflow  "
      ]
     },
     "execution_count": 60,
     "metadata": {},
     "output_type": "execute_result"
    }
   ],
   "source": [
    "combined_df.head(10)"
   ]
  },
  {
   "cell_type": "code",
   "execution_count": 62,
   "metadata": {},
   "outputs": [],
   "source": [
    "combined_df.to_csv(DIR / \"enhanced-dataset.csv\", header=True, index=True)"
   ]
  },
  {
   "cell_type": "code",
   "execution_count": 64,
   "metadata": {},
   "outputs": [],
   "source": [
    "from datasets import Dataset, load_dataset\n",
    "import pandas as pd\n",
    "from common.directories import DATASET_DIR"
   ]
  },
  {
   "cell_type": "code",
   "execution_count": 65,
   "metadata": {},
   "outputs": [],
   "source": [
    "DATASET_NAME = 'enhanced-vulnerability-audits'\n",
    "\n",
    "# Add root to path\n",
    "import sys\n",
    "current_path = sys.path[0]\n",
    "root_name = 'data-lifecycle'\n",
    "root_path = current_path[:sys.path[0].find(root_name) + len(root_name)]\n",
    "if root_path not in sys.path:\n",
    "    sys.path.insert(0, root_path)"
   ]
  },
  {
   "cell_type": "code",
   "execution_count": 67,
   "metadata": {},
   "outputs": [],
   "source": [
    "combined_dataset = Dataset.from_pandas(combined_df)"
   ]
  },
  {
   "cell_type": "code",
   "execution_count": 68,
   "metadata": {},
   "outputs": [],
   "source": [
    "split_dataset = combined_dataset.train_test_split(test_size=0.15)"
   ]
  },
  {
   "cell_type": "code",
   "execution_count": 69,
   "metadata": {},
   "outputs": [
    {
     "data": {
      "application/vnd.jupyter.widget-view+json": {
       "model_id": "e975ba1996ae4da983bf2a58eb6b8853",
       "version_major": 2,
       "version_minor": 0
      },
      "text/plain": [
       "Saving the dataset (0/1 shards):   0%|          | 0/1675 [00:00<?, ? examples/s]"
      ]
     },
     "metadata": {},
     "output_type": "display_data"
    },
    {
     "data": {
      "application/vnd.jupyter.widget-view+json": {
       "model_id": "841b4d7632384e4d951c478ba983eb81",
       "version_major": 2,
       "version_minor": 0
      },
      "text/plain": [
       "Saving the dataset (0/1 shards):   0%|          | 0/296 [00:00<?, ? examples/s]"
      ]
     },
     "metadata": {},
     "output_type": "display_data"
    }
   ],
   "source": [
    "split_dataset.save_to_disk(DATASET_DIR / DATASET_NAME)"
   ]
  }
 ],
 "metadata": {
  "kernelspec": {
   "display_name": "rl",
   "language": "python",
   "name": "python3"
  },
  "language_info": {
   "codemirror_mode": {
    "name": "ipython",
    "version": 3
   },
   "file_extension": ".py",
   "mimetype": "text/x-python",
   "name": "python",
   "nbconvert_exporter": "python",
   "pygments_lexer": "ipython3",
   "version": "3.11.7"
  }
 },
 "nbformat": 4,
 "nbformat_minor": 2
}
