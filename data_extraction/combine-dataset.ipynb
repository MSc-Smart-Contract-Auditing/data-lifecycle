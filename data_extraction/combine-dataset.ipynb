{
 "cells": [
  {
   "cell_type": "code",
   "execution_count": null,
   "metadata": {},
   "outputs": [],
   "source": [
    "DATASET_NAME = 'enhanced-vulnerability-audits'\n",
    "\n",
    "# Add root to path\n",
    "import sys\n",
    "current_path = sys.path[0]\n",
    "root_name = 'data-lifecycle'\n",
    "root_path = current_path[:sys.path[0].find(root_name) + len(root_name)]\n",
    "if root_path not in sys.path:\n",
    "    sys.path.insert(0, root_path)\n",
    "\n",
    "import pandas as pd\n",
    "import csv\n",
    "from pathlib import Path\n",
    "from datasets import Dataset, load_dataset\n",
    "import pandas as pd\n",
    "from common.directories import DATASET_DIR\n",
    "\n",
    "DIR = Path(\"../\")"
   ]
  },
  {
   "cell_type": "code",
   "execution_count": null,
   "metadata": {},
   "outputs": [],
   "source": [
    "CODE_DIALECT = \"code_dialect\"\n",
    "\n",
    "csv.register_dialect(\n",
    "    CODE_DIALECT,\n",
    "    delimiter=\",\",\n",
    "    quotechar='\"',\n",
    "    quoting=csv.QUOTE_MINIMAL,\n",
    ")"
   ]
  },
  {
   "cell_type": "markdown",
   "metadata": {},
   "source": [
    "### Load vulnerable dataset"
   ]
  },
  {
   "cell_type": "code",
   "execution_count": null,
   "metadata": {},
   "outputs": [],
   "source": [
    "DIALECT = \"db_dialect\"\n",
    "csv.register_dialect(\n",
    "    DIALECT,\n",
    "    delimiter=\",\",\n",
    "    quoting=csv.QUOTE_MINIMAL,\n",
    "    escapechar=\"\\\\\",\n",
    ")"
   ]
  },
  {
   "cell_type": "code",
   "execution_count": null,
   "metadata": {},
   "outputs": [],
   "source": [
    "code = pd.read_csv(DIR / \"cleaned-up-code.csv\", dialect=CODE_DIALECT)\n",
    "descriptions = pd.read_csv(DIR / \"enhanced-vulnerability-descriptions.csv\", dialect=DIALECT)\n",
    "mitigations = pd.read_csv(DIR / \"enhanced-recommendations.csv\", dialect=DIALECT)\n",
    "types = pd.read_csv(DIR / \"vulnerability-types.csv\", dialect=DIALECT)\n",
    "functionality = pd.read_csv(DIR / \"functionality.csv\", dialect=CODE_DIALECT)"
   ]
  },
  {
   "cell_type": "code",
   "execution_count": null,
   "metadata": {},
   "outputs": [],
   "source": [
    "print(len(code))\n",
    "print(len(descriptions))\n",
    "print(len(mitigations))\n",
    "print(len(types))\n",
    "print(len(functionality))"
   ]
  },
  {
   "cell_type": "code",
   "execution_count": null,
   "metadata": {},
   "outputs": [],
   "source": [
    "combined_vulnerable_df = pd.concat([\n",
    "    code,\n",
    "    descriptions,\n",
    "    mitigations,\n",
    "    types,\n",
    "    functionality,\n",
    "], axis=1)"
   ]
  },
  {
   "cell_type": "code",
   "execution_count": null,
   "metadata": {},
   "outputs": [],
   "source": [
    "print(combined_vulnerable_df)"
   ]
  },
  {
   "cell_type": "markdown",
   "metadata": {},
   "source": [
    "### Load verified data"
   ]
  },
  {
   "cell_type": "code",
   "execution_count": null,
   "metadata": {},
   "outputs": [],
   "source": [
    "verified_df = load_dataset(\n",
    "    \"msc-smart-contract-audition/vulnerable-functions-base\",\n",
    "    split=\"train\",\n",
    "    name=\"verified-functions\",\n",
    "    escapechar=\"\\\\\",\n",
    ").to_pandas()"
   ]
  },
  {
   "cell_type": "code",
   "execution_count": null,
   "metadata": {},
   "outputs": [],
   "source": [
    "code_verified = verified_df['function'].rename(\"code\")\n",
    "functionality_verified = pd.read_csv(DIR / \"functionality-verified.csv\", dialect=CODE_DIALECT)"
   ]
  },
  {
   "cell_type": "code",
   "execution_count": null,
   "metadata": {},
   "outputs": [],
   "source": [
    "combined_verified_df = pd.concat([\n",
    "    code_verified,\n",
    "    functionality_verified,\n",
    "], axis=1)\n",
    "\n",
    "combined_verified_df[\"type\"] = \"no vulnerability\""
   ]
  },
  {
   "cell_type": "code",
   "execution_count": null,
   "metadata": {},
   "outputs": [],
   "source": [
    "print(combined_verified_df)"
   ]
  },
  {
   "cell_type": "markdown",
   "metadata": {},
   "source": [
    "## Combine"
   ]
  },
  {
   "cell_type": "code",
   "execution_count": null,
   "metadata": {},
   "outputs": [],
   "source": [
    "combined_df = pd.concat([combined_vulnerable_df, combined_verified_df], ignore_index=True)\n"
   ]
  },
  {
   "cell_type": "code",
   "execution_count": null,
   "metadata": {},
   "outputs": [],
   "source": [
    "combined_df.head()"
   ]
  },
  {
   "cell_type": "code",
   "execution_count": null,
   "metadata": {},
   "outputs": [],
   "source": [
    "combined_df.tail()"
   ]
  },
  {
   "cell_type": "code",
   "execution_count": null,
   "metadata": {},
   "outputs": [],
   "source": [
    "combined_df.to_csv(DIR / \"enhanced-dataset.csv\", header=True, index=True)\n",
    "combined_dataset = Dataset.from_pandas(combined_df)\n",
    "split_dataset = combined_dataset.train_test_split(test_size=0.15)\n",
    "split_dataset.save_to_disk(DATASET_DIR / DATASET_NAME)"
   ]
  }
 ],
 "metadata": {
  "kernelspec": {
   "display_name": "rl",
   "language": "python",
   "name": "python3"
  },
  "language_info": {
   "codemirror_mode": {
    "name": "ipython",
    "version": 3
   },
   "file_extension": ".py",
   "mimetype": "text/x-python",
   "name": "python",
   "nbconvert_exporter": "python",
   "pygments_lexer": "ipython3",
   "version": "3.11.7"
  }
 },
 "nbformat": 4,
 "nbformat_minor": 2
}
