{
 "cells": [
  {
   "cell_type": "code",
   "execution_count": 64,
   "metadata": {},
   "outputs": [],
   "source": [
    "DATASET_NAME = 'enhanced-vulnerability-audits'\n",
    "\n",
    "# Add root to path\n",
    "import sys\n",
    "current_path = sys.path[0]\n",
    "root_name = 'data-lifecycle'\n",
    "root_path = current_path[:sys.path[0].find(root_name) + len(root_name)]\n",
    "if root_path not in sys.path:\n",
    "    sys.path.insert(0, root_path)\n",
    "\n",
    "import pandas as pd\n",
    "import csv\n",
    "from pathlib import Path\n",
    "from datasets import Dataset, load_dataset\n",
    "import pandas as pd\n",
    "from common.directories import DATASET_DIR\n",
    "\n",
    "DIR = Path(\"../\")"
   ]
  },
  {
   "cell_type": "code",
   "execution_count": 65,
   "metadata": {},
   "outputs": [],
   "source": [
    "CODE_DIALECT = \"code_dialect\"\n",
    "\n",
    "csv.register_dialect(\n",
    "    CODE_DIALECT,\n",
    "    delimiter=\",\",\n",
    "    quotechar='\"',\n",
    "    quoting=csv.QUOTE_MINIMAL,\n",
    ")"
   ]
  },
  {
   "cell_type": "markdown",
   "metadata": {},
   "source": [
    "### Load vulnerable dataset"
   ]
  },
  {
   "cell_type": "code",
   "execution_count": 66,
   "metadata": {},
   "outputs": [],
   "source": [
    "DIALECT = \"db_dialect\"\n",
    "csv.register_dialect(\n",
    "    DIALECT,\n",
    "    delimiter=\",\",\n",
    "    quoting=csv.QUOTE_MINIMAL,\n",
    "    escapechar=\"\\\\\",\n",
    ")"
   ]
  },
  {
   "cell_type": "code",
   "execution_count": 67,
   "metadata": {},
   "outputs": [],
   "source": [
    "code = pd.read_csv(DIR / \"cleaned-up-code.csv\", dialect=CODE_DIALECT)\n",
    "descriptions = pd.read_csv(DIR / \"enhanced-vulnerability-descriptions.csv\", dialect=DIALECT)\n",
    "mitigations = pd.read_csv(DIR / \"enhanced-recommendations.csv\", dialect=DIALECT)\n",
    "types = pd.read_csv(DIR / \"vulnerability-types.csv\", dialect=DIALECT)\n",
    "functionality = pd.read_csv(DIR / \"functionality.csv\", dialect=CODE_DIALECT)"
   ]
  },
  {
   "cell_type": "code",
   "execution_count": 68,
   "metadata": {},
   "outputs": [
    {
     "name": "stdout",
     "output_type": "stream",
     "text": [
      "1971\n",
      "1971\n",
      "1971\n",
      "1971\n",
      "1971\n"
     ]
    }
   ],
   "source": [
    "print(len(code))\n",
    "print(len(descriptions))\n",
    "print(len(mitigations))\n",
    "print(len(types))\n",
    "print(len(functionality))"
   ]
  },
  {
   "cell_type": "code",
   "execution_count": 69,
   "metadata": {},
   "outputs": [],
   "source": [
    "combined_vulnerable_df = pd.concat([\n",
    "    code,\n",
    "    descriptions,\n",
    "    mitigations,\n",
    "    types,\n",
    "    functionality,\n",
    "], axis=1)"
   ]
  },
  {
   "cell_type": "code",
   "execution_count": 70,
   "metadata": {},
   "outputs": [
    {
     "name": "stdout",
     "output_type": "stream",
     "text": [
      "                                                   code  \\\n",
      "0     ```\\n(\\n    netPnLE36,\\n    lenderProfitUSDVal...   \n",
      "1     ```\\nuint deltaTime;\\n\\nif (pos.startLiqTimest...   \n",
      "2     ```\\nfunction _mintInternal(address _receiver,...   \n",
      "3     ```\\nuint inputTotalUSDValueE36;\\n\\nfor (uint ...   \n",
      "4     ```\\nfunction increaseLiquidity(IncreaseLiquid...   \n",
      "...                                                 ...   \n",
      "1966  ```\\nDepositVault.sol\\nfunction withdraw(uint2...   \n",
      "1967  ```\\nfunction deposit(uint256 amount, address ...   \n",
      "1968  ```\\nfunction withdraw(uint256 _amount) extern...   \n",
      "1969  ```\\n/**\\n * @title GeoEmaAndCumSmaPump\\n * @a...   \n",
      "1970  ```\\nsrc/libraries/LibLastReserveBytes.sol\\nui...   \n",
      "\n",
      "                                            description  \\\n",
      "0     When a position is liquidated, the liquidator ...   \n",
      "1     This vulnerability allows an attacker to manip...   \n",
      "2     This vulnerability allows an attacker to manip...   \n",
      "3     This vulnerability allows an attacker to manip...   \n",
      "4     The UniswapV3NPM contract allows users to incr...   \n",
      "...                                                 ...   \n",
      "1966  The `withdraw()` function in the `DepositVault...   \n",
      "1967  The `DepositVault` contract contains three fun...   \n",
      "1968  The `PriorityPool` contract is designed to man...   \n",
      "1969  The `GeoEmaAndCumSmaPump` contract assumes tha...   \n",
      "1970  The `LibLastReserveBytes::storeLastReserves` f...   \n",
      "\n",
      "                                         recommendation  \\\n",
      "0     To address the vulnerability, we need to ensur...   \n",
      "1     To mitigate this vulnerability, consider imple...   \n",
      "2     To prevent the first depositor from being fron...   \n",
      "3     To mitigate the vulnerability, it is recommend...   \n",
      "4     To prevent an attacker from increasing the liq...   \n",
      "...                                                 ...   \n",
      "1966  To address the unnecessary `amount` parameter ...   \n",
      "1967  To mitigate this vulnerability, consider revie...   \n",
      "1968  To address the issue of users' funds being loc...   \n",
      "1969  To ensure the integrity of the `GeoEmaAndCumSm...   \n",
      "1970  To ensure the integrity of the `LibLastReserve...   \n",
      "\n",
      "                                  type  \\\n",
      "0                        token locking   \n",
      "1              arithmetic manipulation   \n",
      "2                       rounding error   \n",
      "3              arithmetic manipulation   \n",
      "4     arbitrary liquidity manipulation   \n",
      "...                                ...   \n",
      "1966                  input validation   \n",
      "1967      publicly accessible function   \n",
      "1968                     token locking   \n",
      "1969                     invalid state   \n",
      "1970                   data truncation   \n",
      "\n",
      "                                          functionality  \n",
      "0     Code block 1:\\n1.  It calculates some values r...  \n",
      "1     Code block 1:\\n1.  It checks if the start time...  \n",
      "2     Code block 1:\\n1.  It sets a timestamp for a s...  \n",
      "3     Code block 1:\\n1.  Initialize a variable `inpu...  \n",
      "4     Code block 1:\\n1.  This function is used to in...  \n",
      "...                                                 ...  \n",
      "1966  Code block 1:\\n1.  The function `withdraw` is ...  \n",
      "1967  Code block 1:\\n1.  This code block is a smart ...  \n",
      "1968  Code block 1:\\n1.  The function `withdraw` is ...  \n",
      "1969  Code block 1:\\n1.  It initializes a loop that ...  \n",
      "1970  Code block 1:\\n1.  It first calculates the len...  \n",
      "\n",
      "[1971 rows x 5 columns]\n"
     ]
    }
   ],
   "source": [
    "print(combined_vulnerable_df)"
   ]
  },
  {
   "cell_type": "markdown",
   "metadata": {},
   "source": [
    "### Load verified data"
   ]
  },
  {
   "cell_type": "code",
   "execution_count": 71,
   "metadata": {},
   "outputs": [],
   "source": [
    "verified_df = load_dataset(\n",
    "    \"msc-smart-contract-audition/vulnerable-functions-base\",\n",
    "    split=\"train\",\n",
    "    name=\"verified-functions\",\n",
    "    escapechar=\"\\\\\",\n",
    ").to_pandas()"
   ]
  },
  {
   "cell_type": "code",
   "execution_count": 72,
   "metadata": {},
   "outputs": [],
   "source": [
    "code_verified = verified_df['function'].rename(\"code\")\n",
    "functionality_verified = pd.read_csv(DIR / \"functionality-verified.csv\", dialect=CODE_DIALECT)"
   ]
  },
  {
   "cell_type": "code",
   "execution_count": 73,
   "metadata": {},
   "outputs": [],
   "source": [
    "combined_verified_df = pd.concat([\n",
    "    code_verified,\n",
    "    functionality_verified,\n",
    "], axis=1)\n",
    "\n",
    "combined_verified_df[\"type\"] = \"no vulnerability\""
   ]
  },
  {
   "cell_type": "code",
   "execution_count": 74,
   "metadata": {},
   "outputs": [
    {
     "name": "stdout",
     "output_type": "stream",
     "text": [
      "                                                  code  \\\n",
      "0    ```\\nconstructor(string memory name_, string m...   \n",
      "1    ```\\nconstructor(address[] memory tokensToList...   \n",
      "2            ```\\nreceive() external payable {}\\n```\\n   \n",
      "3    ```\\nfunction swap(\\n  address inputToken,\\n  ...   \n",
      "4    ```\\nfunction addLiquidity(address inputToken,...   \n",
      "..                                                 ...   \n",
      "933  ```\\nfunction firstPublicSaleBatchMint(uint256...   \n",
      "934  ```\\nfunction lastPublicSaleBatchMint(uint256 ...   \n",
      "935  ```\\nfunction sendPaymentForReimbursement() ex...   \n",
      "936  ```\\nfunction withdrawPayment() external retur...   \n",
      "937  ```\\nfunction reimbursementAirdrop(\\n    addre...   \n",
      "\n",
      "                                         functionality              type  \n",
      "0    Code block 1:\\n1.  This code block is a constr...  no vulnerability  \n",
      "1    Code block 1:\\n1.  The code is a constructor f...  no vulnerability  \n",
      "2    Code block 1:\\n1.  The code block is a functio...  no vulnerability  \n",
      "3    Code block 1:\\n1.  The function is called `swa...  no vulnerability  \n",
      "4    Code block 1:\\n1.  The function is designed to...  no vulnerability  \n",
      "..                                                 ...               ...  \n",
      "933  Code block 1:\\n1.  The function is triggered w...  no vulnerability  \n",
      "934  Code block 1:\\n1.  The function is triggered w...  no vulnerability  \n",
      "935  Code block 1:\\n1.  The function `sendPaymentFo...  no vulnerability  \n",
      "936  Code block 1:\\n1.  The function `withdrawPayme...  no vulnerability  \n",
      "937  Code block 1:\\n1.  The function `reimbursement...  no vulnerability  \n",
      "\n",
      "[938 rows x 3 columns]\n"
     ]
    }
   ],
   "source": [
    "print(combined_verified_df)"
   ]
  },
  {
   "cell_type": "markdown",
   "metadata": {},
   "source": [
    "## Combine"
   ]
  },
  {
   "cell_type": "code",
   "execution_count": 75,
   "metadata": {},
   "outputs": [],
   "source": [
    "combined_df = pd.concat([combined_vulnerable_df, combined_verified_df], ignore_index=True)\n"
   ]
  },
  {
   "cell_type": "code",
   "execution_count": 76,
   "metadata": {},
   "outputs": [
    {
     "data": {
      "text/html": [
       "<div>\n",
       "<style scoped>\n",
       "    .dataframe tbody tr th:only-of-type {\n",
       "        vertical-align: middle;\n",
       "    }\n",
       "\n",
       "    .dataframe tbody tr th {\n",
       "        vertical-align: top;\n",
       "    }\n",
       "\n",
       "    .dataframe thead th {\n",
       "        text-align: right;\n",
       "    }\n",
       "</style>\n",
       "<table border=\"1\" class=\"dataframe\">\n",
       "  <thead>\n",
       "    <tr style=\"text-align: right;\">\n",
       "      <th></th>\n",
       "      <th>code</th>\n",
       "      <th>description</th>\n",
       "      <th>recommendation</th>\n",
       "      <th>type</th>\n",
       "      <th>functionality</th>\n",
       "    </tr>\n",
       "  </thead>\n",
       "  <tbody>\n",
       "    <tr>\n",
       "      <th>0</th>\n",
       "      <td>```\\n(\\n    netPnLE36,\\n    lenderProfitUSDVal...</td>\n",
       "      <td>When a position is liquidated, the liquidator ...</td>\n",
       "      <td>To address the vulnerability, we need to ensur...</td>\n",
       "      <td>token locking</td>\n",
       "      <td>Code block 1:\\n1.  It calculates some values r...</td>\n",
       "    </tr>\n",
       "    <tr>\n",
       "      <th>1</th>\n",
       "      <td>```\\nuint deltaTime;\\n\\nif (pos.startLiqTimest...</td>\n",
       "      <td>This vulnerability allows an attacker to manip...</td>\n",
       "      <td>To mitigate this vulnerability, consider imple...</td>\n",
       "      <td>arithmetic manipulation</td>\n",
       "      <td>Code block 1:\\n1.  It checks if the start time...</td>\n",
       "    </tr>\n",
       "    <tr>\n",
       "      <th>2</th>\n",
       "      <td>```\\nfunction _mintInternal(address _receiver,...</td>\n",
       "      <td>This vulnerability allows an attacker to manip...</td>\n",
       "      <td>To prevent the first depositor from being fron...</td>\n",
       "      <td>rounding error</td>\n",
       "      <td>Code block 1:\\n1.  It sets a timestamp for a s...</td>\n",
       "    </tr>\n",
       "    <tr>\n",
       "      <th>3</th>\n",
       "      <td>```\\nuint inputTotalUSDValueE36;\\n\\nfor (uint ...</td>\n",
       "      <td>This vulnerability allows an attacker to manip...</td>\n",
       "      <td>To mitigate the vulnerability, it is recommend...</td>\n",
       "      <td>arithmetic manipulation</td>\n",
       "      <td>Code block 1:\\n1.  Initialize a variable `inpu...</td>\n",
       "    </tr>\n",
       "    <tr>\n",
       "      <th>4</th>\n",
       "      <td>```\\nfunction increaseLiquidity(IncreaseLiquid...</td>\n",
       "      <td>The UniswapV3NPM contract allows users to incr...</td>\n",
       "      <td>To prevent an attacker from increasing the liq...</td>\n",
       "      <td>arbitrary liquidity manipulation</td>\n",
       "      <td>Code block 1:\\n1.  This function is used to in...</td>\n",
       "    </tr>\n",
       "  </tbody>\n",
       "</table>\n",
       "</div>"
      ],
      "text/plain": [
       "                                                code  \\\n",
       "0  ```\\n(\\n    netPnLE36,\\n    lenderProfitUSDVal...   \n",
       "1  ```\\nuint deltaTime;\\n\\nif (pos.startLiqTimest...   \n",
       "2  ```\\nfunction _mintInternal(address _receiver,...   \n",
       "3  ```\\nuint inputTotalUSDValueE36;\\n\\nfor (uint ...   \n",
       "4  ```\\nfunction increaseLiquidity(IncreaseLiquid...   \n",
       "\n",
       "                                         description  \\\n",
       "0  When a position is liquidated, the liquidator ...   \n",
       "1  This vulnerability allows an attacker to manip...   \n",
       "2  This vulnerability allows an attacker to manip...   \n",
       "3  This vulnerability allows an attacker to manip...   \n",
       "4  The UniswapV3NPM contract allows users to incr...   \n",
       "\n",
       "                                      recommendation  \\\n",
       "0  To address the vulnerability, we need to ensur...   \n",
       "1  To mitigate this vulnerability, consider imple...   \n",
       "2  To prevent the first depositor from being fron...   \n",
       "3  To mitigate the vulnerability, it is recommend...   \n",
       "4  To prevent an attacker from increasing the liq...   \n",
       "\n",
       "                               type  \\\n",
       "0                     token locking   \n",
       "1           arithmetic manipulation   \n",
       "2                    rounding error   \n",
       "3           arithmetic manipulation   \n",
       "4  arbitrary liquidity manipulation   \n",
       "\n",
       "                                       functionality  \n",
       "0  Code block 1:\\n1.  It calculates some values r...  \n",
       "1  Code block 1:\\n1.  It checks if the start time...  \n",
       "2  Code block 1:\\n1.  It sets a timestamp for a s...  \n",
       "3  Code block 1:\\n1.  Initialize a variable `inpu...  \n",
       "4  Code block 1:\\n1.  This function is used to in...  "
      ]
     },
     "execution_count": 76,
     "metadata": {},
     "output_type": "execute_result"
    }
   ],
   "source": [
    "combined_df.head()"
   ]
  },
  {
   "cell_type": "code",
   "execution_count": 77,
   "metadata": {},
   "outputs": [
    {
     "data": {
      "text/html": [
       "<div>\n",
       "<style scoped>\n",
       "    .dataframe tbody tr th:only-of-type {\n",
       "        vertical-align: middle;\n",
       "    }\n",
       "\n",
       "    .dataframe tbody tr th {\n",
       "        vertical-align: top;\n",
       "    }\n",
       "\n",
       "    .dataframe thead th {\n",
       "        text-align: right;\n",
       "    }\n",
       "</style>\n",
       "<table border=\"1\" class=\"dataframe\">\n",
       "  <thead>\n",
       "    <tr style=\"text-align: right;\">\n",
       "      <th></th>\n",
       "      <th>code</th>\n",
       "      <th>description</th>\n",
       "      <th>recommendation</th>\n",
       "      <th>type</th>\n",
       "      <th>functionality</th>\n",
       "    </tr>\n",
       "  </thead>\n",
       "  <tbody>\n",
       "    <tr>\n",
       "      <th>2904</th>\n",
       "      <td>```\\nfunction firstPublicSaleBatchMint(uint256...</td>\n",
       "      <td>NaN</td>\n",
       "      <td>NaN</td>\n",
       "      <td>no vulnerability</td>\n",
       "      <td>Code block 1:\\n1.  The function is triggered w...</td>\n",
       "    </tr>\n",
       "    <tr>\n",
       "      <th>2905</th>\n",
       "      <td>```\\nfunction lastPublicSaleBatchMint(uint256 ...</td>\n",
       "      <td>NaN</td>\n",
       "      <td>NaN</td>\n",
       "      <td>no vulnerability</td>\n",
       "      <td>Code block 1:\\n1.  The function is triggered w...</td>\n",
       "    </tr>\n",
       "    <tr>\n",
       "      <th>2906</th>\n",
       "      <td>```\\nfunction sendPaymentForReimbursement() ex...</td>\n",
       "      <td>NaN</td>\n",
       "      <td>NaN</td>\n",
       "      <td>no vulnerability</td>\n",
       "      <td>Code block 1:\\n1.  The function `sendPaymentFo...</td>\n",
       "    </tr>\n",
       "    <tr>\n",
       "      <th>2907</th>\n",
       "      <td>```\\nfunction withdrawPayment() external retur...</td>\n",
       "      <td>NaN</td>\n",
       "      <td>NaN</td>\n",
       "      <td>no vulnerability</td>\n",
       "      <td>Code block 1:\\n1.  The function `withdrawPayme...</td>\n",
       "    </tr>\n",
       "    <tr>\n",
       "      <th>2908</th>\n",
       "      <td>```\\nfunction reimbursementAirdrop(\\n    addre...</td>\n",
       "      <td>NaN</td>\n",
       "      <td>NaN</td>\n",
       "      <td>no vulnerability</td>\n",
       "      <td>Code block 1:\\n1.  The function `reimbursement...</td>\n",
       "    </tr>\n",
       "  </tbody>\n",
       "</table>\n",
       "</div>"
      ],
      "text/plain": [
       "                                                   code description  \\\n",
       "2904  ```\\nfunction firstPublicSaleBatchMint(uint256...         NaN   \n",
       "2905  ```\\nfunction lastPublicSaleBatchMint(uint256 ...         NaN   \n",
       "2906  ```\\nfunction sendPaymentForReimbursement() ex...         NaN   \n",
       "2907  ```\\nfunction withdrawPayment() external retur...         NaN   \n",
       "2908  ```\\nfunction reimbursementAirdrop(\\n    addre...         NaN   \n",
       "\n",
       "     recommendation              type  \\\n",
       "2904            NaN  no vulnerability   \n",
       "2905            NaN  no vulnerability   \n",
       "2906            NaN  no vulnerability   \n",
       "2907            NaN  no vulnerability   \n",
       "2908            NaN  no vulnerability   \n",
       "\n",
       "                                          functionality  \n",
       "2904  Code block 1:\\n1.  The function is triggered w...  \n",
       "2905  Code block 1:\\n1.  The function is triggered w...  \n",
       "2906  Code block 1:\\n1.  The function `sendPaymentFo...  \n",
       "2907  Code block 1:\\n1.  The function `withdrawPayme...  \n",
       "2908  Code block 1:\\n1.  The function `reimbursement...  "
      ]
     },
     "execution_count": 77,
     "metadata": {},
     "output_type": "execute_result"
    }
   ],
   "source": [
    "combined_df.tail()"
   ]
  },
  {
   "cell_type": "code",
   "execution_count": 79,
   "metadata": {},
   "outputs": [
    {
     "data": {
      "application/vnd.jupyter.widget-view+json": {
       "model_id": "8ee3ca2ddb764e36a083de3b9f60511d",
       "version_major": 2,
       "version_minor": 0
      },
      "text/plain": [
       "Saving the dataset (0/1 shards):   0%|          | 0/2472 [00:00<?, ? examples/s]"
      ]
     },
     "metadata": {},
     "output_type": "display_data"
    },
    {
     "data": {
      "application/vnd.jupyter.widget-view+json": {
       "model_id": "9a93ed6a48824611ac37a62401f6478b",
       "version_major": 2,
       "version_minor": 0
      },
      "text/plain": [
       "Saving the dataset (0/1 shards):   0%|          | 0/437 [00:00<?, ? examples/s]"
      ]
     },
     "metadata": {},
     "output_type": "display_data"
    }
   ],
   "source": [
    "combined_df.to_csv(DIR / \"enhanced-dataset.csv\", header=True, index=True)\n",
    "combined_dataset = Dataset.from_pandas(combined_df)\n",
    "split_dataset = combined_dataset.train_test_split(test_size=0.15)\n",
    "split_dataset.save_to_disk(DATASET_DIR / DATASET_NAME)"
   ]
  }
 ],
 "metadata": {
  "kernelspec": {
   "display_name": "rl",
   "language": "python",
   "name": "python3"
  },
  "language_info": {
   "codemirror_mode": {
    "name": "ipython",
    "version": 3
   },
   "file_extension": ".py",
   "mimetype": "text/x-python",
   "name": "python",
   "nbconvert_exporter": "python",
   "pygments_lexer": "ipython3",
   "version": "3.11.7"
  }
 },
 "nbformat": 4,
 "nbformat_minor": 2
}
