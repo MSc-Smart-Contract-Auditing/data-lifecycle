{
 "cells": [
  {
   "cell_type": "code",
   "execution_count": 2,
   "metadata": {},
   "outputs": [],
   "source": [
    "DATASET_NAME = 'severity-classification'\n",
    "\n",
    "# Add root to path\n",
    "import sys\n",
    "current_path = sys.path[0]\n",
    "root_name = 'data-lifecycle'\n",
    "root_path = current_path[:sys.path[0].find(root_name) + len(root_name)]\n",
    "if root_path not in sys.path:\n",
    "    sys.path.insert(0, root_path)"
   ]
  },
  {
   "cell_type": "code",
   "execution_count": 2,
   "metadata": {},
   "outputs": [],
   "source": [
    "from datasets import Dataset, load_dataset\n",
    "import pandas as pd\n",
    "from common.directories import DATASET_DIR"
   ]
  },
  {
   "cell_type": "code",
   "execution_count": 3,
   "metadata": {},
   "outputs": [],
   "source": [
    "dataset_vulnerable = load_dataset(\n",
    "  \"msc-smart-contract-audition/vulnerable-functions-base\",\n",
    "  split='train',\n",
    "  escapechar='\\\\',\n",
    ")\n",
    "\n",
    "dataset_verified = load_dataset(\n",
    "  \"msc-smart-contract-audition/vulnerable-functions-base\",\n",
    "  name=\"verified-functions\",\n",
    "  split='train',\n",
    "  escapechar='\\\\',\n",
    ")\n",
    "\n",
    "# Convert to pandas DataFrame\n",
    "df_vulnerable = dataset_vulnerable.to_pandas()\n",
    "df_verified = dataset_verified.to_pandas()"
   ]
  },
  {
   "cell_type": "code",
   "execution_count": 4,
   "metadata": {},
   "outputs": [],
   "source": [
    "# Select and rename the necessary columns from dataset_vulnerable\n",
    "df_vulnerable = df_vulnerable[['function', 'severity']]\n",
    "\n",
    "# Add a 'severity' field with value 'none' to dataset_verified and select columns\n",
    "df_verified['severity'] = 'none'\n",
    "df_verified = df_verified[['function', 'severity']]\n",
    "\n",
    "# Concatenate the two DataFrames\n",
    "combined_df = pd.concat([df_vulnerable, df_verified], ignore_index=True)\n",
    "\n",
    "# Convert back to a Hugging Face dataset\n",
    "combined_dataset = Dataset.from_pandas(combined_df)"
   ]
  },
  {
   "cell_type": "code",
   "execution_count": 5,
   "metadata": {},
   "outputs": [],
   "source": [
    "split_dataset = combined_dataset.train_test_split(test_size=0.15)"
   ]
  },
  {
   "cell_type": "code",
   "execution_count": 6,
   "metadata": {},
   "outputs": [
    {
     "name": "stdout",
     "output_type": "stream",
     "text": [
      "DatasetDict({\n",
      "    train: Dataset({\n",
      "        features: ['function', 'severity'],\n",
      "        num_rows: 2473\n",
      "    })\n",
      "    test: Dataset({\n",
      "        features: ['function', 'severity'],\n",
      "        num_rows: 437\n",
      "    })\n",
      "})\n"
     ]
    }
   ],
   "source": [
    "print(split_dataset)"
   ]
  },
  {
   "cell_type": "code",
   "execution_count": 7,
   "metadata": {},
   "outputs": [
    {
     "data": {
      "application/vnd.jupyter.widget-view+json": {
       "model_id": "ea321402c25e438685a254cf46efb14a",
       "version_major": 2,
       "version_minor": 0
      },
      "text/plain": [
       "Saving the dataset (0/1 shards):   0%|          | 0/2473 [00:00<?, ? examples/s]"
      ]
     },
     "metadata": {},
     "output_type": "display_data"
    },
    {
     "data": {
      "application/vnd.jupyter.widget-view+json": {
       "model_id": "8660fd4aaa3e48ae977a0f54003efcad",
       "version_major": 2,
       "version_minor": 0
      },
      "text/plain": [
       "Saving the dataset (0/1 shards):   0%|          | 0/437 [00:00<?, ? examples/s]"
      ]
     },
     "metadata": {},
     "output_type": "display_data"
    }
   ],
   "source": [
    "split_dataset.save_to_disk(DATASET_DIR / DATASET_NAME)"
   ]
  }
 ],
 "metadata": {
  "kernelspec": {
   "display_name": "rl",
   "language": "python",
   "name": "python3"
  },
  "language_info": {
   "codemirror_mode": {
    "name": "ipython",
    "version": 3
   },
   "file_extension": ".py",
   "mimetype": "text/x-python",
   "name": "python",
   "nbconvert_exporter": "python",
   "pygments_lexer": "ipython3",
   "version": "3.11.7"
  }
 },
 "nbformat": 4,
 "nbformat_minor": 2
}
